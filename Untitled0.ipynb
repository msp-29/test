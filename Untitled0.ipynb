{
  "nbformat": 4,
  "nbformat_minor": 0,
  "metadata": {
    "colab": {
      "provenance": [],
      "authorship_tag": "ABX9TyPSM6Lvkkov3xta9VoGtVQw",
      "include_colab_link": true
    },
    "kernelspec": {
      "name": "python3",
      "display_name": "Python 3"
    },
    "language_info": {
      "name": "python"
    }
  },
  "cells": [
    {
      "cell_type": "markdown",
      "metadata": {
        "id": "view-in-github",
        "colab_type": "text"
      },
      "source": [
        "<a href=\"https://colab.research.google.com/github/owl2222222/sample-repo/blob/main/Untitled0.ipynb\" target=\"_parent\"><img src=\"https://colab.research.google.com/assets/colab-badge.svg\" alt=\"Open In Colab\"/></a>"
      ]
    },
    {
      "cell_type": "code",
      "source": [
        "import random\n",
        "\n",
        "player = tuple(map(int, input(\"10以下の好きな数を二つ入力してください(スペース区切りで)：　\").split()))\n",
        "x1, y1 = player\n",
        "\n",
        "random_integers = random.sample(range(10), 2)\n",
        "suika = tuple(random_integers)\n",
        "x2, y2 = suika\n",
        "x = x2 - x1\n",
        "y = y2 - y1\n",
        "\n",
        "while x != 0 or y != 0:\n",
        "  print(\"スイカは縦方向に:\", x , \"マス、y方向に:\", y, \"マス離れています\")\n",
        "  player_move = input(\"進む方向を選択してください（北：n, 南:s, 東：e, 西：w）\")\n",
        "  if player_move == \"n\":\n",
        "    x1 = x1 - 1\n",
        "  elif player_move == \"s\":\n",
        "    x1 = x1 + 1\n",
        "  elif player_move == \"w\":\n",
        "    y1 = y1 + 1\n",
        "  elif player_move == \"e\":\n",
        "    y1 = y1 - 1\n",
        "  x = x2 - x1\n",
        "  y = y2 - y1\n",
        "print(\"suikawareta!!\")"
      ],
      "metadata": {
        "colab": {
          "base_uri": "https://localhost:8080/"
        },
        "id": "4pQ-1nLClPrG",
        "outputId": "1cd08ebc-cc98-42d6-8b54-a1af9560d473"
      },
      "execution_count": null,
      "outputs": [
        {
          "output_type": "stream",
          "name": "stdout",
          "text": [
            "10以下の好きな数を二つ入力してください(スペース区切りで)：　1 3\n",
            "スイカは縦方向に: 1 マス、y方向に: 2 マス離れています\n",
            "進む方向を選択してください（北：n, 南:s, 東：e, 西：w）s\n",
            "スイカは縦方向に: 0 マス、y方向に: 2 マス離れています\n",
            "進む方向を選択してください（北：n, 南:s, 東：e, 西：w）w\n",
            "スイカは縦方向に: 0 マス、y方向に: 1 マス離れています\n",
            "進む方向を選択してください（北：n, 南:s, 東：e, 西：w）w\n",
            "suikawareta!!\n"
          ]
        }
      ]
    },
    {
      "cell_type": "code",
      "source": [
        "from google.colab import drive\n",
        "drive.mount('/content/drive')"
      ],
      "metadata": {
        "id": "QT0mt0Y3ne_f"
      },
      "execution_count": null,
      "outputs": []
    },
    {
      "cell_type": "code",
      "source": [],
      "metadata": {
        "id": "Pr31JNfWMqif"
      },
      "execution_count": null,
      "outputs": []
    }
  ]
}